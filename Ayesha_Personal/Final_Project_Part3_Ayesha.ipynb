{
 "cells": [
  {
   "cell_type": "code",
   "execution_count": 1,
   "metadata": {
    "collapsed": false
   },
   "outputs": [
    {
     "name": "stderr",
     "output_type": "stream",
     "text": [
      "/Users/aiqbal/anaconda/lib/python2.7/site-packages/statsmodels/compat/pandas.py:56: FutureWarning: The pandas.core.datetools module is deprecated and will be removed in a future version. Please use the pandas.tseries module instead.\n",
      "  from pandas.core import datetools\n"
     ]
    }
   ],
   "source": [
    "#imports\n",
    "from __future__ import division\n",
    "import pandas as pd\n",
    "import numpy as np\n",
    "import matplotlib.pyplot as plt\n",
    "import statsmodels.api as sm\n",
    "import pylab as pl\n",
    "import numpy as np\n",
    "import seaborn as sb\n",
    "sb.set_style(\"darkgrid\")\n",
    "%matplotlib inline"
   ]
  },
  {
   "cell_type": "code",
   "execution_count": 2,
   "metadata": {
    "collapsed": false
   },
   "outputs": [
    {
     "name": "stderr",
     "output_type": "stream",
     "text": [
      "/Users/aiqbal/anaconda/lib/python2.7/site-packages/IPython/core/interactiveshell.py:2717: DtypeWarning: Columns (22,32,34,49,55) have mixed types. Specify dtype option on import or set low_memory=False.\n",
      "  interactivity=interactivity, compiler=compiler, result=result)\n"
     ]
    }
   ],
   "source": [
    "#Read in data from source \n",
    "df_raw = pd.read_csv(\"../Ayesha_hwk/Final_Project_Assets/properties_2016.csv\")\n",
    "#print df_raw.head()"
   ]
  },
  {
   "cell_type": "code",
   "execution_count": 14,
   "metadata": {
    "collapsed": false
   },
   "outputs": [
    {
     "data": {
      "text/plain": [
       "parcelid                        2985217\n",
       "airconditioningtypeid            811519\n",
       "architecturalstyletypeid           6061\n",
       "basementsqft                       1628\n",
       "bathroomcnt                     2973755\n",
       "bedroomcnt                      2973767\n",
       "buildingclasstypeid               12629\n",
       "buildingqualitytypeid           1938488\n",
       "calculatedbathnbr               2856305\n",
       "decktypeid                        17096\n",
       "finishedfloor1squarefeet         202717\n",
       "calculatedfinishedsquarefeet    2929652\n",
       "finishedsquarefeet12            2709184\n",
       "finishedsquarefeet13               7672\n",
       "finishedsquarefeet15             190798\n",
       "finishedsquarefeet50             202717\n",
       "finishedsquarefeet6               22001\n",
       "fips                            2973780\n",
       "fireplacecnt                     312637\n",
       "fullbathcnt                     2856305\n",
       "garagecarcnt                     883267\n",
       "garagetotalsqft                  883267\n",
       "hashottuborspa                    69014\n",
       "heatingorsystemtypeid           1806401\n",
       "latitude                        2973780\n",
       "longitude                       2973780\n",
       "lotsizesquarefeet               2709118\n",
       "poolcnt                          517534\n",
       "poolsizesum                       27960\n",
       "pooltypeid10                      36939\n",
       "pooltypeid2                       32075\n",
       "pooltypeid7                      485459\n",
       "propertycountylandusecode       2972940\n",
       "propertylandusetypeid           2973780\n",
       "propertyzoningdesc              1978629\n",
       "rawcensustractandblock          2973780\n",
       "regionidcity                    2922372\n",
       "regionidcounty                  2973780\n",
       "regionidneighborhood            1156402\n",
       "regionidzip                     2971237\n",
       "roomcnt                         2973742\n",
       "storytypeid                        1624\n",
       "threequarterbathnbr              311631\n",
       "typeconstructiontypeid             6747\n",
       "unitcnt                         1977490\n",
       "yardbuildingsqft17                80355\n",
       "yardbuildingsqft26                 2647\n",
       "yearbuilt                       2925289\n",
       "numberofstories                  682069\n",
       "fireplaceflag                      5163\n",
       "structuretaxvaluedollarcnt      2930235\n",
       "taxvaluedollarcnt               2942667\n",
       "assessmentyear                  2973778\n",
       "landtaxvaluedollarcnt           2917484\n",
       "taxamount                       2953967\n",
       "taxdelinquencyflag                56462\n",
       "taxdelinquencyyear                56464\n",
       "censustractandblock             2910091\n",
       "dtype: int64"
      ]
     },
     "execution_count": 14,
     "metadata": {},
     "output_type": "execute_result"
    }
   ],
   "source": [
    "df_raw.count()"
   ]
  },
  {
   "cell_type": "code",
   "execution_count": 3,
   "metadata": {
    "collapsed": false
   },
   "outputs": [
    {
     "name": "stdout",
     "output_type": "stream",
     "text": [
      "   parcelid  logerror transactiondate\n",
      "0  11016594    0.0276      2016-01-01\n",
      "1  14366692   -0.1684      2016-01-01\n",
      "2  12098116   -0.0040      2016-01-01\n",
      "3  12643413    0.0218      2016-01-02\n",
      "4  14432541   -0.0050      2016-01-02\n"
     ]
    }
   ],
   "source": [
    "df_train = pd.read_csv(\"../Ayesha_hwk/Final_Project_Assets/train_2016_v2.csv\")\n",
    "print df_train.head()"
   ]
  },
  {
   "cell_type": "code",
   "execution_count": 4,
   "metadata": {
    "collapsed": false
   },
   "outputs": [],
   "source": [
    "df = df_raw[['parcelid','bathroomcnt','bedroomcnt','calculatedfinishedsquarefeet', 'latitude', 'longitude', \n",
    "             'lotsizesquarefeet', 'poolcnt','propertycountylandusecode','propertylandusetypeid','regionidcity',\n",
    "             'regionidcounty', 'regionidzip', 'roomcnt', 'yearbuilt', 'numberofstories','structuretaxvaluedollarcnt',\n",
    "             'taxvaluedollarcnt','assessmentyear','landtaxvaluedollarcnt','taxamount']]"
   ]
  },
  {
   "cell_type": "code",
   "execution_count": 5,
   "metadata": {
    "collapsed": false
   },
   "outputs": [
    {
     "data": {
      "text/plain": [
       "parcelid                        2985217\n",
       "bathroomcnt                     2973755\n",
       "bedroomcnt                      2973767\n",
       "calculatedfinishedsquarefeet    2929652\n",
       "latitude                        2973780\n",
       "longitude                       2973780\n",
       "lotsizesquarefeet               2709118\n",
       "poolcnt                          517534\n",
       "propertycountylandusecode       2972940\n",
       "propertylandusetypeid           2973780\n",
       "regionidcity                    2922372\n",
       "regionidcounty                  2973780\n",
       "regionidzip                     2971237\n",
       "roomcnt                         2973742\n",
       "yearbuilt                       2925289\n",
       "numberofstories                  682069\n",
       "structuretaxvaluedollarcnt      2930235\n",
       "taxvaluedollarcnt               2942667\n",
       "assessmentyear                  2973778\n",
       "landtaxvaluedollarcnt           2917484\n",
       "taxamount                       2953967\n",
       "dtype: int64"
      ]
     },
     "execution_count": 5,
     "metadata": {},
     "output_type": "execute_result"
    }
   ],
   "source": [
    "df.count()"
   ]
  },
  {
   "cell_type": "code",
   "execution_count": 5,
   "metadata": {
    "collapsed": false,
    "scrolled": true
   },
   "outputs": [
    {
     "name": "stderr",
     "output_type": "stream",
     "text": [
      "/Users/aiqbal/anaconda/lib/python2.7/site-packages/pandas/core/generic.py:3660: SettingWithCopyWarning: \n",
      "A value is trying to be set on a copy of a slice from a DataFrame\n",
      "\n",
      "See the caveats in the documentation: http://pandas.pydata.org/pandas-docs/stable/indexing.html#indexing-view-versus-copy\n",
      "  self._update_inplace(new_data)\n"
     ]
    },
    {
     "data": {
      "text/plain": [
       "parcelid                        2642184\n",
       "bathroomcnt                     2642184\n",
       "bedroomcnt                      2642184\n",
       "calculatedfinishedsquarefeet    2642184\n",
       "latitude                        2642184\n",
       "longitude                       2642184\n",
       "lotsizesquarefeet               2642184\n",
       "poolcnt                         2642184\n",
       "propertycountylandusecode       2642184\n",
       "propertylandusetypeid           2642184\n",
       "regionidcity                    2642184\n",
       "regionidcounty                  2642184\n",
       "regionidzip                     2642184\n",
       "roomcnt                         2642184\n",
       "yearbuilt                       2642184\n",
       "numberofstories                 2642184\n",
       "structuretaxvaluedollarcnt      2642184\n",
       "taxvaluedollarcnt               2642184\n",
       "assessmentyear                  2642184\n",
       "landtaxvaluedollarcnt           2642184\n",
       "taxamount                       2642184\n",
       "dtype: int64"
      ]
     },
     "execution_count": 5,
     "metadata": {},
     "output_type": "execute_result"
    }
   ],
   "source": [
    "df['poolcnt'].fillna(0,inplace = True)\n",
    "df['numberofstories'].fillna(1,inplace = True)\n",
    "df = df.dropna()\n",
    "df.count()"
   ]
  },
  {
   "cell_type": "code",
   "execution_count": 7,
   "metadata": {
    "collapsed": false
   },
   "outputs": [
    {
     "data": {
      "text/html": [
       "<div>\n",
       "<style>\n",
       "    .dataframe thead tr:only-child th {\n",
       "        text-align: right;\n",
       "    }\n",
       "\n",
       "    .dataframe thead th {\n",
       "        text-align: left;\n",
       "    }\n",
       "\n",
       "    .dataframe tbody tr th {\n",
       "        vertical-align: top;\n",
       "    }\n",
       "</style>\n",
       "<table border=\"1\" class=\"dataframe\">\n",
       "  <thead>\n",
       "    <tr style=\"text-align: right;\">\n",
       "      <th></th>\n",
       "      <th>parcelid</th>\n",
       "      <th>bathroomcnt</th>\n",
       "      <th>bedroomcnt</th>\n",
       "      <th>calculatedfinishedsquarefeet</th>\n",
       "      <th>latitude</th>\n",
       "      <th>longitude</th>\n",
       "      <th>lotsizesquarefeet</th>\n",
       "      <th>poolcnt</th>\n",
       "      <th>propertycountylandusecode</th>\n",
       "      <th>propertylandusetypeid</th>\n",
       "      <th>...</th>\n",
       "      <th>roomcnt</th>\n",
       "      <th>yearbuilt</th>\n",
       "      <th>numberofstories</th>\n",
       "      <th>structuretaxvaluedollarcnt</th>\n",
       "      <th>taxvaluedollarcnt</th>\n",
       "      <th>assessmentyear</th>\n",
       "      <th>landtaxvaluedollarcnt</th>\n",
       "      <th>taxamount</th>\n",
       "      <th>logerror</th>\n",
       "      <th>transactiondate</th>\n",
       "    </tr>\n",
       "  </thead>\n",
       "  <tbody>\n",
       "    <tr>\n",
       "      <th>0</th>\n",
       "      <td>17073783</td>\n",
       "      <td>2.5</td>\n",
       "      <td>3.0</td>\n",
       "      <td>1264.0</td>\n",
       "      <td>34303597.0</td>\n",
       "      <td>-119287236.0</td>\n",
       "      <td>1735.0</td>\n",
       "      <td>0.0</td>\n",
       "      <td>1128</td>\n",
       "      <td>265.0</td>\n",
       "      <td>...</td>\n",
       "      <td>5.0</td>\n",
       "      <td>1986.0</td>\n",
       "      <td>2.0</td>\n",
       "      <td>115087.0</td>\n",
       "      <td>191811.0</td>\n",
       "      <td>2015.0</td>\n",
       "      <td>76724.0</td>\n",
       "      <td>2015.06</td>\n",
       "      <td>0.0953</td>\n",
       "      <td>2016-01-27</td>\n",
       "    </tr>\n",
       "    <tr>\n",
       "      <th>1</th>\n",
       "      <td>17100444</td>\n",
       "      <td>2.0</td>\n",
       "      <td>3.0</td>\n",
       "      <td>1101.0</td>\n",
       "      <td>34340801.0</td>\n",
       "      <td>-119079610.0</td>\n",
       "      <td>6569.0</td>\n",
       "      <td>0.0</td>\n",
       "      <td>1111</td>\n",
       "      <td>261.0</td>\n",
       "      <td>...</td>\n",
       "      <td>5.0</td>\n",
       "      <td>1956.0</td>\n",
       "      <td>1.0</td>\n",
       "      <td>33619.0</td>\n",
       "      <td>47853.0</td>\n",
       "      <td>2015.0</td>\n",
       "      <td>14234.0</td>\n",
       "      <td>591.64</td>\n",
       "      <td>0.0060</td>\n",
       "      <td>2016-05-27</td>\n",
       "    </tr>\n",
       "    <tr>\n",
       "      <th>2</th>\n",
       "      <td>17102429</td>\n",
       "      <td>1.5</td>\n",
       "      <td>2.0</td>\n",
       "      <td>1554.0</td>\n",
       "      <td>34354313.0</td>\n",
       "      <td>-119076405.0</td>\n",
       "      <td>7400.0</td>\n",
       "      <td>0.0</td>\n",
       "      <td>1110</td>\n",
       "      <td>261.0</td>\n",
       "      <td>...</td>\n",
       "      <td>5.0</td>\n",
       "      <td>1965.0</td>\n",
       "      <td>1.0</td>\n",
       "      <td>45609.0</td>\n",
       "      <td>62914.0</td>\n",
       "      <td>2015.0</td>\n",
       "      <td>17305.0</td>\n",
       "      <td>682.78</td>\n",
       "      <td>-0.0566</td>\n",
       "      <td>2016-06-07</td>\n",
       "    </tr>\n",
       "    <tr>\n",
       "      <th>3</th>\n",
       "      <td>17109604</td>\n",
       "      <td>2.5</td>\n",
       "      <td>4.0</td>\n",
       "      <td>2415.0</td>\n",
       "      <td>34266578.0</td>\n",
       "      <td>-119165392.0</td>\n",
       "      <td>6326.0</td>\n",
       "      <td>0.0</td>\n",
       "      <td>1111</td>\n",
       "      <td>261.0</td>\n",
       "      <td>...</td>\n",
       "      <td>8.0</td>\n",
       "      <td>1984.0</td>\n",
       "      <td>2.0</td>\n",
       "      <td>277000.0</td>\n",
       "      <td>554000.0</td>\n",
       "      <td>2015.0</td>\n",
       "      <td>277000.0</td>\n",
       "      <td>5886.92</td>\n",
       "      <td>0.0573</td>\n",
       "      <td>2016-08-08</td>\n",
       "    </tr>\n",
       "    <tr>\n",
       "      <th>4</th>\n",
       "      <td>17125829</td>\n",
       "      <td>2.5</td>\n",
       "      <td>4.0</td>\n",
       "      <td>2882.0</td>\n",
       "      <td>34240014.0</td>\n",
       "      <td>-119024793.0</td>\n",
       "      <td>10000.0</td>\n",
       "      <td>0.0</td>\n",
       "      <td>1111</td>\n",
       "      <td>261.0</td>\n",
       "      <td>...</td>\n",
       "      <td>8.0</td>\n",
       "      <td>1980.0</td>\n",
       "      <td>2.0</td>\n",
       "      <td>222070.0</td>\n",
       "      <td>289609.0</td>\n",
       "      <td>2015.0</td>\n",
       "      <td>67539.0</td>\n",
       "      <td>3110.44</td>\n",
       "      <td>0.0564</td>\n",
       "      <td>2016-08-26</td>\n",
       "    </tr>\n",
       "  </tbody>\n",
       "</table>\n",
       "<p>5 rows × 23 columns</p>\n",
       "</div>"
      ],
      "text/plain": [
       "   parcelid  bathroomcnt  bedroomcnt  calculatedfinishedsquarefeet  \\\n",
       "0  17073783          2.5         3.0                        1264.0   \n",
       "1  17100444          2.0         3.0                        1101.0   \n",
       "2  17102429          1.5         2.0                        1554.0   \n",
       "3  17109604          2.5         4.0                        2415.0   \n",
       "4  17125829          2.5         4.0                        2882.0   \n",
       "\n",
       "     latitude    longitude  lotsizesquarefeet  poolcnt  \\\n",
       "0  34303597.0 -119287236.0             1735.0      0.0   \n",
       "1  34340801.0 -119079610.0             6569.0      0.0   \n",
       "2  34354313.0 -119076405.0             7400.0      0.0   \n",
       "3  34266578.0 -119165392.0             6326.0      0.0   \n",
       "4  34240014.0 -119024793.0            10000.0      0.0   \n",
       "\n",
       "  propertycountylandusecode  propertylandusetypeid       ...         roomcnt  \\\n",
       "0                      1128                  265.0       ...             5.0   \n",
       "1                      1111                  261.0       ...             5.0   \n",
       "2                      1110                  261.0       ...             5.0   \n",
       "3                      1111                  261.0       ...             8.0   \n",
       "4                      1111                  261.0       ...             8.0   \n",
       "\n",
       "   yearbuilt  numberofstories  structuretaxvaluedollarcnt  taxvaluedollarcnt  \\\n",
       "0     1986.0              2.0                    115087.0           191811.0   \n",
       "1     1956.0              1.0                     33619.0            47853.0   \n",
       "2     1965.0              1.0                     45609.0            62914.0   \n",
       "3     1984.0              2.0                    277000.0           554000.0   \n",
       "4     1980.0              2.0                    222070.0           289609.0   \n",
       "\n",
       "   assessmentyear  landtaxvaluedollarcnt  taxamount  logerror  transactiondate  \n",
       "0          2015.0                76724.0    2015.06    0.0953       2016-01-27  \n",
       "1          2015.0                14234.0     591.64    0.0060       2016-05-27  \n",
       "2          2015.0                17305.0     682.78   -0.0566       2016-06-07  \n",
       "3          2015.0               277000.0    5886.92    0.0573       2016-08-08  \n",
       "4          2015.0                67539.0    3110.44    0.0564       2016-08-26  \n",
       "\n",
       "[5 rows x 23 columns]"
      ]
     },
     "execution_count": 7,
     "metadata": {},
     "output_type": "execute_result"
    }
   ],
   "source": [
    "df_merge = pd.merge(df, df_train, how='inner', on='parcelid')\n",
    "df_merge.head()"
   ]
  },
  {
   "cell_type": "code",
   "execution_count": 8,
   "metadata": {
    "collapsed": false
   },
   "outputs": [],
   "source": [
    "df_merge['transactiondate'] = pd.to_datetime(df_merge['transactiondate'])\n",
    "df_merge.set_index('transactiondate', inplace=True)\n",
    "\n",
    "df_merge['Transaction_Year'] = df_merge.index.year\n",
    "df_merge['Transaction_Month'] = df_merge.index.month"
   ]
  },
  {
   "cell_type": "code",
   "execution_count": 9,
   "metadata": {
    "collapsed": false
   },
   "outputs": [
    {
     "data": {
      "text/html": [
       "<div>\n",
       "<style>\n",
       "    .dataframe thead tr:only-child th {\n",
       "        text-align: right;\n",
       "    }\n",
       "\n",
       "    .dataframe thead th {\n",
       "        text-align: left;\n",
       "    }\n",
       "\n",
       "    .dataframe tbody tr th {\n",
       "        vertical-align: top;\n",
       "    }\n",
       "</style>\n",
       "<table border=\"1\" class=\"dataframe\">\n",
       "  <thead>\n",
       "    <tr style=\"text-align: right;\">\n",
       "      <th></th>\n",
       "      <th>parcelid</th>\n",
       "      <th>bathroomcnt</th>\n",
       "      <th>bedroomcnt</th>\n",
       "      <th>calculatedfinishedsquarefeet</th>\n",
       "      <th>latitude</th>\n",
       "      <th>longitude</th>\n",
       "      <th>lotsizesquarefeet</th>\n",
       "      <th>poolcnt</th>\n",
       "      <th>propertycountylandusecode</th>\n",
       "      <th>propertylandusetypeid</th>\n",
       "      <th>...</th>\n",
       "      <th>yearbuilt</th>\n",
       "      <th>numberofstories</th>\n",
       "      <th>structuretaxvaluedollarcnt</th>\n",
       "      <th>taxvaluedollarcnt</th>\n",
       "      <th>assessmentyear</th>\n",
       "      <th>landtaxvaluedollarcnt</th>\n",
       "      <th>taxamount</th>\n",
       "      <th>logerror</th>\n",
       "      <th>Transaction_Year</th>\n",
       "      <th>Transaction_Month</th>\n",
       "    </tr>\n",
       "    <tr>\n",
       "      <th>transactiondate</th>\n",
       "      <th></th>\n",
       "      <th></th>\n",
       "      <th></th>\n",
       "      <th></th>\n",
       "      <th></th>\n",
       "      <th></th>\n",
       "      <th></th>\n",
       "      <th></th>\n",
       "      <th></th>\n",
       "      <th></th>\n",
       "      <th></th>\n",
       "      <th></th>\n",
       "      <th></th>\n",
       "      <th></th>\n",
       "      <th></th>\n",
       "      <th></th>\n",
       "      <th></th>\n",
       "      <th></th>\n",
       "      <th></th>\n",
       "      <th></th>\n",
       "      <th></th>\n",
       "    </tr>\n",
       "  </thead>\n",
       "  <tbody>\n",
       "    <tr>\n",
       "      <th>2016-01-27</th>\n",
       "      <td>17073783</td>\n",
       "      <td>2.5</td>\n",
       "      <td>3.0</td>\n",
       "      <td>1264.0</td>\n",
       "      <td>34303597.0</td>\n",
       "      <td>-119287236.0</td>\n",
       "      <td>1735.0</td>\n",
       "      <td>0.0</td>\n",
       "      <td>1128</td>\n",
       "      <td>265.0</td>\n",
       "      <td>...</td>\n",
       "      <td>1986.0</td>\n",
       "      <td>2.0</td>\n",
       "      <td>115087.0</td>\n",
       "      <td>191811.0</td>\n",
       "      <td>2015.0</td>\n",
       "      <td>76724.0</td>\n",
       "      <td>2015.06</td>\n",
       "      <td>0.0953</td>\n",
       "      <td>2016</td>\n",
       "      <td>1</td>\n",
       "    </tr>\n",
       "    <tr>\n",
       "      <th>2016-05-27</th>\n",
       "      <td>17100444</td>\n",
       "      <td>2.0</td>\n",
       "      <td>3.0</td>\n",
       "      <td>1101.0</td>\n",
       "      <td>34340801.0</td>\n",
       "      <td>-119079610.0</td>\n",
       "      <td>6569.0</td>\n",
       "      <td>0.0</td>\n",
       "      <td>1111</td>\n",
       "      <td>261.0</td>\n",
       "      <td>...</td>\n",
       "      <td>1956.0</td>\n",
       "      <td>1.0</td>\n",
       "      <td>33619.0</td>\n",
       "      <td>47853.0</td>\n",
       "      <td>2015.0</td>\n",
       "      <td>14234.0</td>\n",
       "      <td>591.64</td>\n",
       "      <td>0.0060</td>\n",
       "      <td>2016</td>\n",
       "      <td>5</td>\n",
       "    </tr>\n",
       "    <tr>\n",
       "      <th>2016-06-07</th>\n",
       "      <td>17102429</td>\n",
       "      <td>1.5</td>\n",
       "      <td>2.0</td>\n",
       "      <td>1554.0</td>\n",
       "      <td>34354313.0</td>\n",
       "      <td>-119076405.0</td>\n",
       "      <td>7400.0</td>\n",
       "      <td>0.0</td>\n",
       "      <td>1110</td>\n",
       "      <td>261.0</td>\n",
       "      <td>...</td>\n",
       "      <td>1965.0</td>\n",
       "      <td>1.0</td>\n",
       "      <td>45609.0</td>\n",
       "      <td>62914.0</td>\n",
       "      <td>2015.0</td>\n",
       "      <td>17305.0</td>\n",
       "      <td>682.78</td>\n",
       "      <td>-0.0566</td>\n",
       "      <td>2016</td>\n",
       "      <td>6</td>\n",
       "    </tr>\n",
       "    <tr>\n",
       "      <th>2016-08-08</th>\n",
       "      <td>17109604</td>\n",
       "      <td>2.5</td>\n",
       "      <td>4.0</td>\n",
       "      <td>2415.0</td>\n",
       "      <td>34266578.0</td>\n",
       "      <td>-119165392.0</td>\n",
       "      <td>6326.0</td>\n",
       "      <td>0.0</td>\n",
       "      <td>1111</td>\n",
       "      <td>261.0</td>\n",
       "      <td>...</td>\n",
       "      <td>1984.0</td>\n",
       "      <td>2.0</td>\n",
       "      <td>277000.0</td>\n",
       "      <td>554000.0</td>\n",
       "      <td>2015.0</td>\n",
       "      <td>277000.0</td>\n",
       "      <td>5886.92</td>\n",
       "      <td>0.0573</td>\n",
       "      <td>2016</td>\n",
       "      <td>8</td>\n",
       "    </tr>\n",
       "    <tr>\n",
       "      <th>2016-08-26</th>\n",
       "      <td>17125829</td>\n",
       "      <td>2.5</td>\n",
       "      <td>4.0</td>\n",
       "      <td>2882.0</td>\n",
       "      <td>34240014.0</td>\n",
       "      <td>-119024793.0</td>\n",
       "      <td>10000.0</td>\n",
       "      <td>0.0</td>\n",
       "      <td>1111</td>\n",
       "      <td>261.0</td>\n",
       "      <td>...</td>\n",
       "      <td>1980.0</td>\n",
       "      <td>2.0</td>\n",
       "      <td>222070.0</td>\n",
       "      <td>289609.0</td>\n",
       "      <td>2015.0</td>\n",
       "      <td>67539.0</td>\n",
       "      <td>3110.44</td>\n",
       "      <td>0.0564</td>\n",
       "      <td>2016</td>\n",
       "      <td>8</td>\n",
       "    </tr>\n",
       "  </tbody>\n",
       "</table>\n",
       "<p>5 rows × 24 columns</p>\n",
       "</div>"
      ],
      "text/plain": [
       "                 parcelid  bathroomcnt  bedroomcnt  \\\n",
       "transactiondate                                      \n",
       "2016-01-27       17073783          2.5         3.0   \n",
       "2016-05-27       17100444          2.0         3.0   \n",
       "2016-06-07       17102429          1.5         2.0   \n",
       "2016-08-08       17109604          2.5         4.0   \n",
       "2016-08-26       17125829          2.5         4.0   \n",
       "\n",
       "                 calculatedfinishedsquarefeet    latitude    longitude  \\\n",
       "transactiondate                                                          \n",
       "2016-01-27                             1264.0  34303597.0 -119287236.0   \n",
       "2016-05-27                             1101.0  34340801.0 -119079610.0   \n",
       "2016-06-07                             1554.0  34354313.0 -119076405.0   \n",
       "2016-08-08                             2415.0  34266578.0 -119165392.0   \n",
       "2016-08-26                             2882.0  34240014.0 -119024793.0   \n",
       "\n",
       "                 lotsizesquarefeet  poolcnt propertycountylandusecode  \\\n",
       "transactiondate                                                         \n",
       "2016-01-27                  1735.0      0.0                      1128   \n",
       "2016-05-27                  6569.0      0.0                      1111   \n",
       "2016-06-07                  7400.0      0.0                      1110   \n",
       "2016-08-08                  6326.0      0.0                      1111   \n",
       "2016-08-26                 10000.0      0.0                      1111   \n",
       "\n",
       "                 propertylandusetypeid        ...          yearbuilt  \\\n",
       "transactiondate                               ...                      \n",
       "2016-01-27                       265.0        ...             1986.0   \n",
       "2016-05-27                       261.0        ...             1956.0   \n",
       "2016-06-07                       261.0        ...             1965.0   \n",
       "2016-08-08                       261.0        ...             1984.0   \n",
       "2016-08-26                       261.0        ...             1980.0   \n",
       "\n",
       "                 numberofstories  structuretaxvaluedollarcnt  \\\n",
       "transactiondate                                                \n",
       "2016-01-27                   2.0                    115087.0   \n",
       "2016-05-27                   1.0                     33619.0   \n",
       "2016-06-07                   1.0                     45609.0   \n",
       "2016-08-08                   2.0                    277000.0   \n",
       "2016-08-26                   2.0                    222070.0   \n",
       "\n",
       "                 taxvaluedollarcnt  assessmentyear  landtaxvaluedollarcnt  \\\n",
       "transactiondate                                                             \n",
       "2016-01-27                191811.0          2015.0                76724.0   \n",
       "2016-05-27                 47853.0          2015.0                14234.0   \n",
       "2016-06-07                 62914.0          2015.0                17305.0   \n",
       "2016-08-08                554000.0          2015.0               277000.0   \n",
       "2016-08-26                289609.0          2015.0                67539.0   \n",
       "\n",
       "                 taxamount  logerror  Transaction_Year  Transaction_Month  \n",
       "transactiondate                                                            \n",
       "2016-01-27         2015.06    0.0953              2016                  1  \n",
       "2016-05-27          591.64    0.0060              2016                  5  \n",
       "2016-06-07          682.78   -0.0566              2016                  6  \n",
       "2016-08-08         5886.92    0.0573              2016                  8  \n",
       "2016-08-26         3110.44    0.0564              2016                  8  \n",
       "\n",
       "[5 rows x 24 columns]"
      ]
     },
     "execution_count": 9,
     "metadata": {},
     "output_type": "execute_result"
    }
   ],
   "source": [
    "df_merge.head()"
   ]
  },
  {
   "cell_type": "code",
   "execution_count": 10,
   "metadata": {
    "collapsed": false,
    "scrolled": true
   },
   "outputs": [
    {
     "data": {
      "text/plain": [
       "6     9464\n",
       "8     9054\n",
       "7     8652\n",
       "5     8518\n",
       "9     8332\n",
       "4     8013\n",
       "3     7427\n",
       "1     5646\n",
       "2     5415\n",
       "10    4368\n",
       "11    1612\n",
       "12    1529\n",
       "Name: Transaction_Month, dtype: int64"
      ]
     },
     "execution_count": 10,
     "metadata": {},
     "output_type": "execute_result"
    }
   ],
   "source": [
    "df_merge['Transaction_Month'].value_counts()"
   ]
  },
  {
   "cell_type": "code",
   "execution_count": 11,
   "metadata": {
    "collapsed": false
   },
   "outputs": [
    {
     "name": "stdout",
     "output_type": "stream",
     "text": [
      "Training dataset is 62189 rows. 0.796988337819 of overall dataset.\n",
      "Test dataset is 15841 rows. 0.203011662181 of overall dataset.\n"
     ]
    }
   ],
   "source": [
    "#I'll be using Months Jan-Aug for Training Data, Sep-Dec for Testing Data\n",
    "df_train = df_merge.loc[df_merge['Transaction_Month'].isin([1,2,3,4,5,6,7,8])]\n",
    "df_test = df_merge.loc[df_merge['Transaction_Month'].isin([9,10,11,12])]\n",
    "print \"Training dataset is\", len(df_train), \"rows.\", len(df_train)/len(df_merge), \"of overall dataset.\"\n",
    "print \"Test dataset is\", len(df_test), \"rows.\", len(df_test)/len(df_merge), \"of overall dataset.\""
   ]
  },
  {
   "cell_type": "code",
   "execution_count": 19,
   "metadata": {
    "collapsed": false
   },
   "outputs": [
    {
     "data": {
      "text/plain": [
       "<matplotlib.axes._subplots.AxesSubplot at 0x1150aeed0>"
      ]
     },
     "execution_count": 19,
     "metadata": {},
     "output_type": "execute_result"
    },
    {
     "data": {
      "image/png": "[encoded data removed]",
      "text/plain": [
       "<matplotlib.figure.Figure at 0x1150d93d0>"
      ]
     },
     "metadata": {},
     "output_type": "display_data"
    }
   ],
   "source": [
    "df_train['landtaxvaluedollarcnt'].hist(bins=np.linspace(0,.25,5))"
   ]
  },
  {
   "cell_type": "code",
   "execution_count": 13,
   "metadata": {
    "collapsed": false
   },
   "outputs": [
    {
     "data": {
      "text/plain": [
       "<matplotlib.axes._subplots.AxesSubplot at 0x1109eced0>"
      ]
     },
     "execution_count": 13,
     "metadata": {},
     "output_type": "execute_result"
    },
    {
     "data": {
      "image/png": "[encoded data removed]",
      "text/plain": [
       "<matplotlib.figure.Figure at 0x135aedd90>"
      ]
     },
     "metadata": {},
     "output_type": "display_data"
    }
   ],
   "source": [
    "df_train['logerror'].hist()"
   ]
  },
  {
   "cell_type": "code",
   "execution_count": null,
   "metadata": {
    "collapsed": true
   },
   "outputs": [],
   "source": []
  },
  {
   "cell_type": "code",
   "execution_count": 12,
   "metadata": {
    "collapsed": false,
    "scrolled": true
   },
   "outputs": [
    {
     "data": {
      "text/plain": [
       "<matplotlib.axes._subplots.AxesSubplot at 0x15fc37b50>"
      ]
     },
     "execution_count": 12,
     "metadata": {},
     "output_type": "execute_result"
    },
    {
     "data": {
      "image/png": "[encoded data removed]",
      "text/plain": [
       "<matplotlib.figure.Figure at 0x13ba694d0>"
      ]
     },
     "metadata": {},
     "output_type": "display_data"
    }
   ],
   "source": [
    "df_train[['bathroomcnt','logerror']].plot()"
   ]
  },
  {
   "cell_type": "code",
   "execution_count": null,
   "metadata": {
    "collapsed": false
   },
   "outputs": [],
   "source": [
    "for i in ('parcelid','bathroomcnt','bedroomcnt','calculatedfinishedsquarefeet', 'latitude', 'longitude', \n",
    "             'lotsizesquarefeet', 'poolcnt','propertycountylandusecode','propertylandusetypeid','regionidcity',\n",
    "             'regionidcounty', 'regionidzip', 'roomcnt', 'yearbuilt', 'numberofstories','structuretaxvaluedollarcnt',\n",
    "             'taxvaluedollarcnt','assessmentyear','landtaxvaluedollarcnt','taxamount'):\n",
    "    sb.factorplot(\n",
    "        #col = 'Transaction_Month', #stratified by Open status\n",
    "        x=i,\n",
    "        y='logerror',\n",
    "        data=df_train, \n",
    "        kind='box'\n",
    "    )"
   ]
  },
  {
   "cell_type": "code",
   "execution_count": 18,
   "metadata": {
    "collapsed": false
   },
   "outputs": [
    {
     "data": {
      "text/plain": [
       "[<matplotlib.lines.Line2D at 0x110882a90>]"
      ]
     },
     "execution_count": 18,
     "metadata": {},
     "output_type": "execute_result"
    },
    {
     "data": {
      "image/png": "[encoded data removed]",
      "text/plain": [
       "<matplotlib.figure.Figure at 0x13be2b350>"
      ]
     },
     "metadata": {},
     "output_type": "display_data"
    }
   ],
   "source": [
    "#for i in ('bathroomcnt','bedroomcnt','calculatedfinishedsquarefeet', 'latitude', 'longitude', \n",
    "#             'lotsizesquarefeet', 'poolcnt','propertylandusetypeid', 'roomcnt', 'yearbuilt', 'numberofstories','structuretaxvaluedollarcnt',\n",
    "#             'taxvaluedollarcnt','assessmentyear','landtaxvaluedollarcnt','taxamount'):\n",
    "plt.plot(df_train['calculatedfinishedsquarefeet'], df_train['logerror'], 'ro')"
   ]
  },
  {
   "cell_type": "code",
   "execution_count": 19,
   "metadata": {
    "collapsed": false,
    "scrolled": true
   },
   "outputs": [
    {
     "data": {
      "text/plain": [
       "[<matplotlib.lines.Line2D at 0x13bf92ed0>]"
      ]
     },
     "execution_count": 19,
     "metadata": {},
     "output_type": "execute_result"
    },
    {
     "data": {
      "image/png": "[encoded data removed]",
      "text/plain": [
       "<matplotlib.figure.Figure at 0x13be8e690>"
      ]
     },
     "metadata": {},
     "output_type": "display_data"
    }
   ],
   "source": [
    "plt.plot(df_train['lotsizesquarefeet'], df_train['logerror'], 'ro')"
   ]
  },
  {
   "cell_type": "code",
   "execution_count": 20,
   "metadata": {
    "collapsed": false,
    "scrolled": true
   },
   "outputs": [
    {
     "data": {
      "text/plain": [
       "[<matplotlib.lines.Line2D at 0x13cbff6d0>]"
      ]
     },
     "execution_count": 20,
     "metadata": {},
     "output_type": "execute_result"
    },
    {
     "data": {
      "image/png": "[encoded data removed]",
      "text/plain": [
       "<matplotlib.figure.Figure at 0x13c860f90>"
      ]
     },
     "metadata": {},
     "output_type": "display_data"
    }
   ],
   "source": [
    "plt.plot(df_train['yearbuilt'], df_train['logerror'], 'bo')"
   ]
  },
  {
   "cell_type": "code",
   "execution_count": 21,
   "metadata": {
    "collapsed": false
   },
   "outputs": [
    {
     "data": {
      "text/plain": [
       "[<matplotlib.lines.Line2D at 0x13cdebbd0>]"
      ]
     },
     "execution_count": 21,
     "metadata": {},
     "output_type": "execute_result"
    },
    {
     "data": {
      "image/png": "[encoded data removed]",
      "text/plain": [
       "<matplotlib.figure.Figure at 0x13cc1f550>"
      ]
     },
     "metadata": {},
     "output_type": "display_data"
    }
   ],
   "source": [
    "plt.plot(df_train['taxvaluedollarcnt'], df_train['logerror'], 'bo')"
   ]
  },
  {
   "cell_type": "code",
   "execution_count": 13,
   "metadata": {
    "collapsed": false
   },
   "outputs": [
    {
     "name": "stdout",
     "output_type": "stream",
     "text": [
      "Axes(0.125,0.125;0.62x0.755)\n"
     ]
    },
    {
     "data": {
      "image/png": "[encoded data removed]",
      "text/plain": [
       "<matplotlib.figure.Figure at 0x113489310>"
      ]
     },
     "metadata": {},
     "output_type": "display_data"
    }
   ],
   "source": [
    "cmap = sb.diverging_palette(220, 10, as_cmap=True)\n",
    "\n",
    "correlations = df_train[['bathroomcnt','bedroomcnt','calculatedfinishedsquarefeet', 'latitude', 'longitude', \n",
    "             'lotsizesquarefeet', 'poolcnt','propertylandusetypeid', 'roomcnt', 'yearbuilt', 'numberofstories','structuretaxvaluedollarcnt',\n",
    "             'taxvaluedollarcnt','assessmentyear','landtaxvaluedollarcnt','taxamount']].corr()\n",
    "#print correlations\n",
    "print sb.heatmap(correlations, cmap=cmap)"
   ]
  },
  {
   "cell_type": "code",
   "execution_count": null,
   "metadata": {
    "collapsed": false
   },
   "outputs": [],
   "source": [
    "#features = df_train[['bathroomcnt','bedroomcnt','calculatedfinishedsquarefeet', 'latitude', 'longitude', \n",
    "#             'lotsizesquarefeet', 'poolcnt','propertylandusetypeid', 'roomcnt', 'yearbuilt', 'numberofstories','structuretaxvaluedollarcnt',\n",
    "#             'taxvaluedollarcnt','assessmentyear','landtaxvaluedollarcnt','taxamount']]\n",
    "#sb.pairplot(features, hue = )\n",
    "#plt.show()"
   ]
  },
  {
   "cell_type": "code",
   "execution_count": 17,
   "metadata": {
    "collapsed": false
   },
   "outputs": [
    {
     "ename": "ValueError",
     "evalue": "The truth value of a Series is ambiguous. Use a.empty, a.bool(), a.item(), a.any() or a.all().",
     "output_type": "error",
     "traceback": [
      "\u001b[0;31m---------------------------------------------------------------------------\u001b[0m",
      "\u001b[0;31mValueError\u001b[0m                                Traceback (most recent call last)",
      "\u001b[0;32m<ipython-input-17-af1d334f0738>\u001b[0m in \u001b[0;36m<module>\u001b[0;34m()\u001b[0m\n\u001b[1;32m     16\u001b[0m \u001b[0;34m\u001b[0m\u001b[0m\n\u001b[1;32m     17\u001b[0m \u001b[0;31m#Set the zoom to the maximum possible\u001b[0m\u001b[0;34m\u001b[0m\u001b[0;34m\u001b[0m\u001b[0m\n\u001b[0;32m---> 18\u001b[0;31m \u001b[0mthis_map\u001b[0m\u001b[0;34m.\u001b[0m\u001b[0mfit_bounds\u001b[0m\u001b[0;34m(\u001b[0m\u001b[0mthis_map\u001b[0m\u001b[0;34m.\u001b[0m\u001b[0mget_bounds\u001b[0m\u001b[0;34m(\u001b[0m\u001b[0;34m)\u001b[0m\u001b[0;34m)\u001b[0m\u001b[0;34m\u001b[0m\u001b[0m\n\u001b[0m\u001b[1;32m     19\u001b[0m \u001b[0;34m\u001b[0m\u001b[0m\n\u001b[1;32m     20\u001b[0m \u001b[0;31m#Save the map to an HTML file\u001b[0m\u001b[0;34m\u001b[0m\u001b[0;34m\u001b[0m\u001b[0m\n",
      "\u001b[0;32m/Users/aiqbal/anaconda/lib/python2.7/site-packages/branca/element.pyc\u001b[0m in \u001b[0;36mget_bounds\u001b[0;34m(self)\u001b[0m\n\u001b[1;32m     75\u001b[0m             bounds = [\n\u001b[1;32m     76\u001b[0m                 [\n\u001b[0;32m---> 77\u001b[0;31m                     \u001b[0mnone_min\u001b[0m\u001b[0;34m(\u001b[0m\u001b[0mbounds\u001b[0m\u001b[0;34m[\u001b[0m\u001b[0;36m0\u001b[0m\u001b[0;34m]\u001b[0m\u001b[0;34m[\u001b[0m\u001b[0;36m0\u001b[0m\u001b[0;34m]\u001b[0m\u001b[0;34m,\u001b[0m \u001b[0mchild_bounds\u001b[0m\u001b[0;34m[\u001b[0m\u001b[0;36m0\u001b[0m\u001b[0;34m]\u001b[0m\u001b[0;34m[\u001b[0m\u001b[0;36m0\u001b[0m\u001b[0;34m]\u001b[0m\u001b[0;34m)\u001b[0m\u001b[0;34m,\u001b[0m\u001b[0;34m\u001b[0m\u001b[0m\n\u001b[0m\u001b[1;32m     78\u001b[0m                     \u001b[0mnone_min\u001b[0m\u001b[0;34m(\u001b[0m\u001b[0mbounds\u001b[0m\u001b[0;34m[\u001b[0m\u001b[0;36m0\u001b[0m\u001b[0;34m]\u001b[0m\u001b[0;34m[\u001b[0m\u001b[0;36m1\u001b[0m\u001b[0;34m]\u001b[0m\u001b[0;34m,\u001b[0m \u001b[0mchild_bounds\u001b[0m\u001b[0;34m[\u001b[0m\u001b[0;36m0\u001b[0m\u001b[0;34m]\u001b[0m\u001b[0;34m[\u001b[0m\u001b[0;36m1\u001b[0m\u001b[0;34m]\u001b[0m\u001b[0;34m)\u001b[0m\u001b[0;34m,\u001b[0m\u001b[0;34m\u001b[0m\u001b[0m\n\u001b[1;32m     79\u001b[0m                     ],\n",
      "\u001b[0;32m/Users/aiqbal/anaconda/lib/python2.7/site-packages/branca/utilities.pyc\u001b[0m in \u001b[0;36mnone_min\u001b[0;34m(x, y)\u001b[0m\n\u001b[1;32m    440\u001b[0m         \u001b[0;32mreturn\u001b[0m \u001b[0mx\u001b[0m\u001b[0;34m\u001b[0m\u001b[0m\n\u001b[1;32m    441\u001b[0m     \u001b[0;32melse\u001b[0m\u001b[0;34m:\u001b[0m\u001b[0;34m\u001b[0m\u001b[0m\n\u001b[0;32m--> 442\u001b[0;31m         \u001b[0;32mreturn\u001b[0m \u001b[0mmin\u001b[0m\u001b[0;34m(\u001b[0m\u001b[0mx\u001b[0m\u001b[0;34m,\u001b[0m \u001b[0my\u001b[0m\u001b[0;34m)\u001b[0m\u001b[0;34m\u001b[0m\u001b[0m\n\u001b[0m\u001b[1;32m    443\u001b[0m \u001b[0;34m\u001b[0m\u001b[0m\n\u001b[1;32m    444\u001b[0m \u001b[0;34m\u001b[0m\u001b[0m\n",
      "\u001b[0;32m/Users/aiqbal/anaconda/lib/python2.7/site-packages/pandas/core/generic.pyc\u001b[0m in \u001b[0;36m__nonzero__\u001b[0;34m(self)\u001b[0m\n\u001b[1;32m    953\u001b[0m         raise ValueError(\"The truth value of a {0} is ambiguous. \"\n\u001b[1;32m    954\u001b[0m                          \u001b[0;34m\"Use a.empty, a.bool(), a.item(), a.any() or a.all().\"\u001b[0m\u001b[0;34m\u001b[0m\u001b[0m\n\u001b[0;32m--> 955\u001b[0;31m                          .format(self.__class__.__name__))\n\u001b[0m\u001b[1;32m    956\u001b[0m \u001b[0;34m\u001b[0m\u001b[0m\n\u001b[1;32m    957\u001b[0m     \u001b[0m__bool__\u001b[0m \u001b[0;34m=\u001b[0m \u001b[0m__nonzero__\u001b[0m\u001b[0;34m\u001b[0m\u001b[0m\n",
      "\u001b[0;31mValueError\u001b[0m: The truth value of a Series is ambiguous. Use a.empty, a.bool(), a.item(), a.any() or a.all()."
     ]
    }
   ],
   "source": [
    "import folium\n",
    "\n",
    "#create a map\n",
    "this_map = folium.Map(prefer_canvas=True)\n",
    "\n",
    "def plotDot(point):\n",
    "    '''input: series that contains a numeric named latitude and a numeric named longitude\n",
    "    this function creates a CircleMarker and adds it to your this_map'''\n",
    "    folium.CircleMarker(location=[df_train['latitude'], df_train['longitude']],\n",
    "                        radius=2,\n",
    "                        weight=0).add_to(this_map)\n",
    "\n",
    "#use df.apply(,axis=1) to \"iterate\" through every row in your dataframe\n",
    "df_train.apply(plotDot, axis = 1)\n",
    "\n",
    "\n",
    "#Set the zoom to the maximum possible\n",
    "this_map.fit_bounds(this_map.get_bounds())\n",
    "\n",
    "#Save the map to an HTML file\n",
    "this_map.save('html_map_output/simple_dot_plot.html')\n",
    "\n",
    "this_map"
   ]
  },
  {
   "cell_type": "code",
   "execution_count": null,
   "metadata": {
    "collapsed": true
   },
   "outputs": [],
   "source": []
  }
 ],
 "metadata": {
  "anaconda-cloud": {},
  "kernelspec": {
   "display_name": "Python [default]",
   "language": "python",
   "name": "python2"
  },
  "language_info": {
   "codemirror_mode": {
    "name": "ipython",
    "version": 2
   },
   "file_extension": ".py",
   "mimetype": "text/x-python",
   "name": "python",
   "nbconvert_exporter": "python",
   "pygments_lexer": "ipython2",
   "version": "2.7.12"
  }
 },
 "nbformat": 4,
 "nbformat_minor": 1
}
