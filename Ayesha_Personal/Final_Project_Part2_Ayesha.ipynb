{
 "cells": [
  {
   "cell_type": "markdown",
   "metadata": {},
   "source": [
    "# Project Design Writeup and Approval Template\n",
    "\n",
    "Follow this as a guide to completing the project design writeup. The questions for each section are merely there to suggest what the baseline should cover; be sure to use detail as it will make the project much easier to approach as the class moves on."
   ]
  },
  {
   "cell_type": "markdown",
   "metadata": {},
   "source": [
    "### Project Problem and Hypothesis\n",
    "* What's the project about? What problem are you solving?\n",
    "\n",
    "The project is about predicting home prices.\n",
    "* Where does this seem to reside as a machine learning problem? Are you predicting some continuous number, or predicting a binary value?\n",
    "\n",
    "Well, both. I'll use clustering to determine neighborhoods, then within those neighborhoods, I'll be predicting a continuous number.\n",
    "* What kind of impact do you think it could have?\n",
    "\n",
    "This will have an impact to agents, buyers and sellers of property.\n",
    "* What do you think will have the most impact in predicting the value you are interested in solving for?\n",
    "\n",
    "Neighborhood and price per sq foot, age of property."
   ]
  },
  {
   "cell_type": "markdown",
   "metadata": {},
   "source": [
    "### Datasets\n",
    "* Description of data set available, at the field level (see table)"
   ]
  },
  {
   "cell_type": "raw",
   "metadata": {
    "collapsed": true
   },
   "source": [
    "Feature\tDescription\n",
    "'airconditioningtypeid'\t Type of cooling system present in the home (if any)\n",
    "'architecturalstyletypeid'\t Architectural style of the home (i.e. ranch, colonial, split-level, etc…)\n",
    "'basementsqft'\t Finished living area below or partially below ground level\n",
    "'bathroomcnt'\t Number of bathrooms in home including fractional bathrooms\n",
    "'bedroomcnt'\t Number of bedrooms in home \n",
    "'buildingqualitytypeid'\t Overall assessment of condition of the building from best (lowest) to worst (highest)\n",
    "'buildingclasstypeid'\tThe building framing type (steel frame, wood frame, concrete/brick) \n",
    "'calculatedbathnbr'\t Number of bathrooms in home including fractional bathroom\n",
    "'decktypeid'\tType of deck (if any) present on parcel\n",
    "'threequarterbathnbr'\t Number of 3/4 bathrooms in house (shower + sink + toilet)\n",
    "'finishedfloor1squarefeet'\t Size of the finished living area on the first (entry) floor of the home\n",
    "'calculatedfinishedsquarefeet'\t Calculated total finished living area of the home \n",
    "'finishedsquarefeet6'\tBase unfinished and finished area\n",
    "'finishedsquarefeet12'\tFinished living area\n",
    "'finishedsquarefeet13'\tPerimeter  living area\n",
    "'finishedsquarefeet15'\tTotal area\n",
    "'finishedsquarefeet50'\t Size of the finished living area on the first (entry) floor of the home\n",
    "'fips'\t Federal Information Processing Standard code -  see https://en.wikipedia.org/wiki/FIPS_county_code for more details\n",
    "'fireplacecnt'\t Number of fireplaces in a home (if any)\n",
    "'fireplaceflag'\t Is a fireplace present in this home \n",
    "'fullbathcnt'\t Number of full bathrooms (sink, shower + bathtub, and toilet) present in home\n",
    "'garagecarcnt'\t Total number of garages on the lot including an attached garage\n",
    "'garagetotalsqft'\t Total number of square feet of all garages on lot including an attached garage\n",
    "'hashottuborspa'\t Does the home have a hot tub or spa\n",
    "'heatingorsystemtypeid'\t Type of home heating system\n",
    "'latitude'\t Latitude of the middle of the parcel multiplied by 10e6\n",
    "'longitude'\t Longitude of the middle of the parcel multiplied by 10e6\n",
    "'lotsizesquarefeet'\t Area of the lot in square feet\n",
    "'numberofstories'\t Number of stories or levels the home has\n",
    "'parcelid'\t Unique identifier for parcels (lots) \n",
    "'poolcnt'\t Number of pools on the lot (if any)\n",
    "'poolsizesum'\t Total square footage of all pools on property\n",
    "'pooltypeid10'\t Spa or Hot Tub\n",
    "'pooltypeid2'\t Pool with Spa/Hot Tub\n",
    "'pooltypeid7'\t Pool without hot tub\n",
    "'propertycountylandusecode'\t County land use code i.e. it's zoning at the county level\n",
    "'propertylandusetypeid'\t Type of land use the property is zoned for\n",
    "'propertyzoningdesc'\t Description of the allowed land uses (zoning) for that property\n",
    "'rawcensustractandblock'\t Census tract and block ID combined - also contains blockgroup assignment by extension\n",
    "'censustractandblock'\t Census tract and block ID combined - also contains blockgroup assignment by extension\n",
    "'regionidcounty'\tCounty in which the property is located\n",
    "'regionidcity'\t City in which the property is located (if any)\n",
    "'regionidzip'\t Zip code in which the property is located\n",
    "'regionidneighborhood'\tNeighborhood in which the property is located\n",
    "'roomcnt'\t Total number of rooms in the principal residence\n",
    "'storytypeid'\t Type of floors in a multi-story house (i.e. basement and main level, split-level, attic, etc.).  See tab for details.\n",
    "'typeconstructiontypeid'\t What type of construction material was used to construct the home\n",
    "'unitcnt'\t Number of units the structure is built into (i.e. 2 = duplex, 3 = triplex, etc...)\n",
    "'yardbuildingsqft17'\tPatio in  yard\n",
    "'yardbuildingsqft26'\tStorage shed/building in yard\n",
    "'yearbuilt'\t The Year the principal residence was built \n",
    "'taxvaluedollarcnt'\tThe total tax assessed value of the parcel\n",
    "'structuretaxvaluedollarcnt'\tThe assessed value of the built structure on the parcel\n",
    "'landtaxvaluedollarcnt'\tThe assessed value of the land area of the parcel\n",
    "'taxamount'\tThe total property tax assessed for that assessment year\n",
    "'assessmentyear'\tThe year of the property tax assessment \n",
    "'taxdelinquencyflag'\tProperty taxes for this parcel are past due as of 2015\n",
    "'taxdelinquencyyear'\tYear for which the unpaid propert taxes were due "
   ]
  },
  {
   "cell_type": "markdown",
   "metadata": {},
   "source": [
    "* If from an API, include a sample return (this is usually included in API documentation!) (if doing this in markdown, use the javacription code tag)"
   ]
  },
  {
   "cell_type": "markdown",
   "metadata": {},
   "source": [
    "### Domain knowledge\n",
    "* What experience do you already have around this area?\n",
    "\n",
    "My husband and I recently purchased a home in San Francisco. In the process, we collected several metrics on previously sold homes in order to inform our decision on a bid."
   ]
  },
  {
   "cell_type": "markdown",
   "metadata": {},
   "source": [
    "* Does it relate or help inform the project in any way?\n",
    "\n",
    "Yes, my prior knowledge will help me pull in features that are important for the model, as well as provide a gut check for prices in certain neighborhoods."
   ]
  },
  {
   "cell_type": "markdown",
   "metadata": {},
   "source": [
    "* What other research efforts exist?\n",
    "    * Use a quick Google search to see what approaches others have made, or talk with your colleagues if it is work related about previous attempts at similar problems.\n",
    "    \n",
    "    Creative feature engineering \n",
    "    \n",
    "    Advanced regression techniques like random forest and gradient boosting\n",
    "    \n",
    "    * This could even just be something like \"the marketing team put together a forecast in excel that doesn't do well.\"\n",
    "    \n",
    "    I've previously put together a crude calculation of home price based on comparables in the area and price/sqft.\n",
    "    \n",
    "    * Include a benchmark, how other models have performed, even if you are unsure what the metric means.\n",
    "    \n",
    "    https://www.kaggle.com/aharless/predicting-house-prices-linear-ensemble-and-svm\n",
    "    \n",
    "    https://www.kaggle.com/c/house-prices-advanced-regression-techniques/discussion/32381\n",
    "    "
   ]
  },
  {
   "cell_type": "markdown",
   "metadata": {},
   "source": [
    "### Project Concerns\n",
    "* What questions do you have about your project? What are you not sure you quite yet understand? (The more honest you are about this, the easier your instructors can help).\n",
    "\n",
    "I'm not quite sure how to go about clustering first, then doing a regression. Also the dataset is very large and I'm trying to figure out how to pare it down to something manageable. At first look, I'm not sure that it includes San Francisco zip codes, which I was hoping it might."
   ]
  },
  {
   "cell_type": "markdown",
   "metadata": {},
   "source": [
    "* What are the assumptions and caveats to the problem?\n",
    "\n",
    "We are assuming the valuation of the home price changes over time. However I'm not quite sure how to build that time factor into the model.\n",
    "\n",
    "* What data do you not have access to but wish you had?\n",
    "    \n",
    "I wish I had access to a more robust dataset on recent home purchases in San Francisco with a more enhanced set of features - view: T/F, median household income of zipcode, etc.\n",
    "    \n",
    "* What is already implied about the observations in your data set? For example, if your primary data set is twitter data, it may not be representative of the whole sample (say, predicting who would win an election)\n",
    "\n",
    "It is only for a certain time period and a subset of zipcodes."
   ]
  },
  {
   "cell_type": "markdown",
   "metadata": {},
   "source": [
    "* What are the risks to the project?\n",
    "\n",
    "Missing data, unclean data.\n",
    "\n",
    "* What's the cost of your model being wrong? (What's the benefit of your model being right?)\n",
    "\n",
    "The cost of my model being wrong is that buyers looking to make an informed bid will not be using a functional algorithm / predition.\n",
    "\n",
    "* Is any of the data incorrect? Could it be incorrect?\n",
    "\n",
    "Not sure, there are plenty of rows with missing data, however."
   ]
  },
  {
   "cell_type": "markdown",
   "metadata": {},
   "source": [
    "### Outcomes\n",
    "* What do you expect the output to look like?\n",
    "\n",
    "The output will be a dollar value for each peoperty for each month.\n",
    "* What does your target audience expect the output to look like?\n",
    "\n",
    "Same as above.\n",
    "* What gain do you expect from your most important feature on its own?\n",
    "* How complicated does your model have to be?\n",
    "* How successful does your project have to be in order to be considered a \"success\"?\n",
    "* What will you do if the project is a bust (this happens! but it shouldn't here)?"
   ]
  },
  {
   "cell_type": "code",
   "execution_count": null,
   "metadata": {
    "collapsed": true
   },
   "outputs": [],
   "source": []
  },
  {
   "cell_type": "code",
   "execution_count": null,
   "metadata": {
    "collapsed": true
   },
   "outputs": [],
   "source": []
  }
 ],
 "metadata": {
  "anaconda-cloud": {},
  "kernelspec": {
   "display_name": "Python [default]",
   "language": "python",
   "name": "python2"
  },
  "language_info": {
   "codemirror_mode": {
    "name": "ipython",
    "version": 2
   },
   "file_extension": ".py",
   "mimetype": "text/x-python",
   "name": "python",
   "nbconvert_exporter": "python",
   "pygments_lexer": "ipython2",
   "version": "2.7.12"
  }
 },
 "nbformat": 4,
 "nbformat_minor": 1
}
